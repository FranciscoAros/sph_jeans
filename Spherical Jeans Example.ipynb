{
 "cells": [
  {
   "cell_type": "code",
   "execution_count": 1,
   "metadata": {},
   "outputs": [],
   "source": [
    "import numpy as np\n",
    "import matplotlib.pyplot as plt"
   ]
  },
  {
   "cell_type": "code",
   "execution_count": 2,
   "metadata": {},
   "outputs": [],
   "source": [
    "%matplotlib inline"
   ]
  },
  {
   "cell_type": "code",
   "execution_count": 3,
   "metadata": {},
   "outputs": [],
   "source": [
    "import model_sph as sph"
   ]
  },
  {
   "cell_type": "markdown",
   "metadata": {},
   "source": [
    "# Spherical Jeans Code"
   ]
  },
  {
   "cell_type": "markdown",
   "metadata": {},
   "source": [
    "This version of the Jeans code is currently tailor made for model Globular Cluster with a possible IMBH at its center, but it can easily modified for different objects as the integration of the spherical Jeans equation is independent of the model (within the assumption of constant velocity anisotropy) "
   ]
  },
  {
   "cell_type": "markdown",
   "metadata": {},
   "source": [
    "The main goal of the code is to solve the Jeans equation assuming a constant velocity anisotropy, which means it calculates the following integral:"
   ]
  },
  {
   "cell_type": "markdown",
   "metadata": {},
   "source": [
    "\\begin{equation*}\n",
    "\\langle \\text{v}^2_r \\rangle (r) = \\frac{1}{n(r) r^{2\\beta}}\\int_{r}^{\\infty}{dr'n(r')r'^{(2\\beta)}\\frac{\\partial\\Phi}{\\partial r'}(r')}\n",
    "\\quad\\quad\\text{(1)}\n",
    "\\end{equation*}"
   ]
  },
  {
   "cell_type": "markdown",
   "metadata": {},
   "source": [
    "where $n(r)$ is the tracer  number density (assumed to be the same as the luminosity density $j(r)$), $\\beta$ is the radial velocity anisotropy and $\\Phi$ is the potential"
   ]
  },
  {
   "cell_type": "markdown",
   "metadata": {},
   "source": [
    "## Now, how does it work? \n",
    "\n",
    "The code create an object called ```model()``` which save all the parameters for the models ```pars```, the luminosity density (tracer density) ```self.nu```, the cumulative mass ```self.mass``` and radial velocity dispersion ```self.s2_r``` (as given by equation (1) )"
   ]
  },
  {
   "cell_type": "markdown",
   "metadata": {},
   "source": [
    "```python\n",
    "\n",
    "class model:\n",
    "    \n",
    "    def __init__(self,pars):\n",
    "        self.I0,self.a1,self.a2,self.s0,self.s1,self.s2,self.alph_1,self.alph_2 = pars\n",
    "         \n",
    "        #par2\n",
    "        self.r  = 10.**np.arange(-3.,8.0,0.1)\n",
    "        self.nu = np.zeros((self.r).size)    \n",
    "    \n",
    "        #par3\n",
    "        self.ml  = 0.0\n",
    "        self.Mbh = 0.0\n",
    "        self.mass = np.zeros((self.r).size)\n",
    "    \n",
    "        #par4\n",
    "        self.beta = 0.0\n",
    "        self.r_02 = 10.**np.arange(-2.,6.5,0.1)\n",
    "        self.s2_r = np.zeros((self.r_02).size)    \n",
    "\n",
    "```"
   ]
  },
  {
   "cell_type": "markdown",
   "metadata": {},
   "source": [
    "```self.r``` is the radii range for $r'$ in equation (1) and it defines the range of raddi for the tracer density ```self.nu``` and cumulative mass ```self.mass```"
   ]
  },
  {
   "cell_type": "markdown",
   "metadata": {},
   "source": [
    "In the current version the input parameters ```pars``` are given for the functional form of the surface brightness of the tracers, following this parametric form:\n",
    "\n",
    "\\begin{equation*}\n",
    "I(R) = I_{0}\\times(R/a_0)^{-s_0}\\times(1+(R/a_0)^{\\alpha_1})^{-s_1/\\alpha_1}\\times(1+(R/a_1)^{\\alpha_2})^{-s_2/\\alpha_2}\n",
    "\\quad\\quad\\text{(2)}\n",
    "\\end{equation*}\n",
    "\n"
   ]
  },
  {
   "cell_type": "markdown",
   "metadata": {},
   "source": [
    "where $R$ is the projected radius. For this example I will use a combination of parameters that its consistent with a Plummer profile with a total mass of $M_{tot}=10^5\\,M_{\\odot}$, a scale radius of $r_0 = 2\\,\\text{[pc]}$ and a mass-to-light radius of $M/L = 1.5\\,[M_{\\odot}/L_{\\odot}]$"
   ]
  },
  {
   "cell_type": "markdown",
   "metadata": {},
   "source": [
    "The input parameters of equation (2) for this model are: \n",
    "(don't ask why)"
   ]
  },
  {
   "cell_type": "code",
   "execution_count": 4,
   "metadata": {},
   "outputs": [],
   "source": [
    "I0     = 10**(3.72181614) \n",
    "a0     = 1.0\n",
    "a1     = 1.99336662\n",
    "s0     = 0.0\n",
    "s1     = 0.0\n",
    "s2     = 3.99616881\n",
    "alph_1 = 1.0\n",
    "alph_2 = 1.96685881\n",
    "\n",
    "pars = [I0,a0,a1,s0,s1,s2,alph_1,alph_2]"
   ]
  },
  {
   "cell_type": "markdown",
   "metadata": {},
   "source": [
    "### First step: ```model```\n",
    "\n",
    "First step, create a model object:"
   ]
  },
  {
   "cell_type": "code",
   "execution_count": 5,
   "metadata": {},
   "outputs": [],
   "source": [
    "M00 = sph.model(pars)"
   ]
  },
  {
   "cell_type": "markdown",
   "metadata": {},
   "source": [
    "```M00``` now is the object that will have the input parameters and profiles, you can use ```M00.get_pars()``` to recover the input parameters"
   ]
  },
  {
   "cell_type": "code",
   "execution_count": 6,
   "metadata": {},
   "outputs": [
    {
     "data": {
      "text/plain": [
       "[5270.0670416417615, 1.0, 1.99336662, 0.0, 0.0, 3.99616881, 1.0, 1.96685881]"
      ]
     },
     "execution_count": 6,
     "metadata": {},
     "output_type": "execute_result"
    }
   ],
   "source": [
    "M00.get_pars()"
   ]
  },
  {
   "cell_type": "markdown",
   "metadata": {},
   "source": [
    "### Second step: ```gen_nu()```\n",
    "The second step is to generate the tracer density using the method ```gen_nu()```"
   ]
  },
  {
   "cell_type": "code",
   "execution_count": 7,
   "metadata": {},
   "outputs": [
    {
     "name": "stderr",
     "output_type": "stream",
     "text": [
      "/Users/farospin/Desktop/Jeans-models/model_sph.py:59: RuntimeWarning: invalid value encountered in reciprocal\n",
      "  aux_03 = (-s2)*(1.+(R/a2)**(alph_2))**(-1.)*(R/a2)**(alph_2-1.)*(1./a2)\n",
      "/Users/farospin/Desktop/Jeans-models/model_sph.py:57: RuntimeWarning: invalid value encountered in reciprocal\n",
      "  aux_01 = (-s0)*(R/a1)**(-1.)*(1./a1)\n"
     ]
    }
   ],
   "source": [
    "M00.gen_nu()"
   ]
  },
  {
   "cell_type": "markdown",
   "metadata": {},
   "source": [
    "```gen_nu()``` generates the tracer density (light) and saves it in ```self.nu```. In practice it's not really relevant as you can change the inner part of the code in whatever way you like. In this case the code deprojects the surface brightness calculating this integral:\n",
    "\n",
    "\\begin{equation*}\n",
    "j(r) = \\frac{-1}{\\pi}\\displaystyle\\int_r^{\\infty}{\\frac{dR}{\\sqrt{R^2-r^2}}\\frac{dI}{dR}}\n",
    "\\quad\\quad\\text{(3)}\\\n",
    "\\end{equation*}"
   ]
  },
  {
   "cell_type": "markdown",
   "metadata": {},
   "source": [
    "Once $n(r)$ is created you can extract it by evaluating its value at any given point (within the constraints of the ```self.r```) using ```get_nu(r)```, in the same way you can recover the surface brightness at a given radius with ```I_surf(x)```. "
   ]
  },
  {
   "cell_type": "code",
   "execution_count": 8,
   "metadata": {},
   "outputs": [
    {
     "data": {
      "image/png": "[encoded data removed]",
      "text/plain": [
       "<Figure size 432x288 with 1 Axes>"
      ]
     },
     "metadata": {
      "needs_background": "light"
     },
     "output_type": "display_data"
    }
   ],
   "source": [
    "r = 10**np.arange(-1.,2.0,0.1)\n",
    "R = 10**np.arange(-1.,2.0,0.1)\n",
    "\n",
    "nu = np.zeros(r.size)\n",
    "sb = np.zeros(R.size)\n",
    "\n",
    "for k in range(r.size):\n",
    "    nu[k] = M00.get_nu(r[k])\n",
    "    \n",
    "for k in range(R.size):\n",
    "    sb[k] = M00.I_surf(R[k])\n",
    "\n",
    "\n",
    "##Lets see the tracer density profiles:\n",
    "\n",
    "fig,ax = plt.subplots(1,1,sharex=True)\n",
    "\n",
    "ax.plot(r,nu,'--r',label=r'j(r) [$L_{\\odot}\\,pc^{-3}$]')\n",
    "ax.plot(R,sb,'-k' ,label=r'I(R) [$L_{\\odot}\\,pc^{-2}$]')\n",
    "\n",
    "ax.set_xscale('log')\n",
    "ax.set_yscale('log')\n",
    "\n",
    "ax.set_xlabel('radius')\n",
    "ax.set_ylabel('tracer density')\n",
    "\n",
    "ax.text(0.1,0.01 ,'Surface Density',color='k')\n",
    "ax.text(0.1,0.003,'Internal (3D) Density',color='r')\n",
    "\n",
    "ax.set_ylim([1e-3,1e+4])\n",
    "\n",
    "ax.legend()\n",
    "\n",
    "plt.show()\n"
   ]
  },
  {
   "cell_type": "markdown",
   "metadata": {},
   "source": [
    "### Third step: ```gen_mass(ml,mbh)```"
   ]
  },
  {
   "cell_type": "markdown",
   "metadata": {},
   "source": [
    "The third step is to generate the cumulative mass profile for the potential. This method uses the already sampled tracer density ```self.nu```, the mass-to-light ratio ```self.ml``` and the mass of the central black hole ```self.Mbh```. The latter two are defined acording the input parameters given to the method. "
   ]
  },
  {
   "cell_type": "markdown",
   "metadata": {},
   "source": [
    "In the spherically symetric case, the gradient of the potential $d \\Phi/d r$ is given directly by the enclosed mass as:\n",
    "\n",
    "\\begin{equation*}\n",
    "\\frac{d\\Phi}{dr} = \\frac{GM(r)}{r^2}\n",
    "\\quad\\quad\\text{(4)}\\\n",
    "\\end{equation*}"
   ]
  },
  {
   "cell_type": "markdown",
   "metadata": {},
   "source": [
    "The method is defined like this:\n",
    "\n",
    "```python\n",
    "def gen_mass(self,ml,Mbh):\n",
    "        self.ml  = ml\n",
    "        self.Mbh = Mbh\n",
    "        \n",
    "        I0,a1,a2,s0,s1,s2,alph_1,alph_2 = self.get_pars()\n",
    "            \n",
    "        r  = self.r\n",
    "        aux_mass = np.zeros(r.size)\n",
    "        \n",
    "        for k in range(r.size-1):\n",
    "    \n",
    "            u = np.linspace(r[k],r[k+1],100)\n",
    "            v = np.zeros(u.size)\n",
    "    \n",
    "            for j in range(u.size):\n",
    "                v[j] = ml*self.get_nu(u[j])*u[j]**2\n",
    "    \n",
    "            du =      u[1:] - u[:u.size-1]\n",
    "            dv = 0.5*(v[1:] + v[:v.size-1])\n",
    "    \n",
    "            aux_mass[k+1] = 4*np.pi*np.sum(du*dv)\n",
    "        \n",
    "        self.mass = np.cumsum(aux_mass) + Mbh\n",
    "```\n",
    "\n",
    "where it obtain the total mass by using a simple trapezoidal rule of numerical integration for the integral:\n",
    "\n",
    "\\begin{equation*}\n",
    "M(r) = 4\\pi\\int_{0}^{r}\\rho(r')r'^2 dr'\n",
    "\\quad\\quad\\text{(4)}\\\n",
    "\\end{equation*}\n",
    "\n",
    "As my code asumes a constant mass-to-light ratio then the mass density profile is described by ```ml*self.get_nu(u[j])```"
   ]
  },
  {
   "cell_type": "markdown",
   "metadata": {},
   "source": [
    "We can generate the cumulative mass profile with the M/L = 1.5 and Mbh = 0.0"
   ]
  },
  {
   "cell_type": "code",
   "execution_count": 9,
   "metadata": {},
   "outputs": [],
   "source": [
    "M00.gen_mass(1.5,0.0)"
   ]
  },
  {
   "cell_type": "markdown",
   "metadata": {},
   "source": [
    "Then we can use ```get_mass(r)``` to extract values of the generated cumulative mass profile"
   ]
  },
  {
   "cell_type": "code",
   "execution_count": 10,
   "metadata": {},
   "outputs": [
    {
     "data": {
      "image/png": "[encoded data removed]",
      "text/plain": [
       "<Figure size 432x288 with 1 Axes>"
      ]
     },
     "metadata": {
      "needs_background": "light"
     },
     "output_type": "display_data"
    }
   ],
   "source": [
    "M = np.zeros(r.size)\n",
    "\n",
    "for k in range(r.size):\n",
    "    M[k] = M00.get_mass(r[k])\n",
    "    \n",
    "##Lets see the cumulative mass profile:\n",
    "\n",
    "fig,ax = plt.subplots(1,1,sharex=True)\n",
    "\n",
    "ax.plot(r,M,'-k')\n",
    "ax.axhline(y=1e5,ls='--',c='0.5',alpha=0.5)\n",
    "\n",
    "ax.set_xscale('log')\n",
    "ax.set_yscale('log')\n",
    "\n",
    "ax.set_xlabel('r [pc]')\n",
    "ax.set_ylabel('M(<r) [$M_{\\odot}$] ')\n",
    "\n",
    "ax.text(0.1,6e4,'total mass = 1e5 Msun',color='0.5')\n",
    "\n",
    "plt.show()"
   ]
  },
  {
   "cell_type": "markdown",
   "metadata": {},
   "source": [
    "### 4th step: ```gen_vdisp(ani)```"
   ]
  },
  {
   "cell_type": "markdown",
   "metadata": {},
   "source": [
    "Now that the tracer density and the mass profile are generated and saved into the object ```M00``` we can integrate the Jeans equation (as eq. (1)). The method ```gen_vdisp(ani)``` receives as an argument a value of velocity anisotropy for the system, save it into the model and generate a radial profile for the square radial velocity dispersion.  "
   ]
  },
  {
   "cell_type": "markdown",
   "metadata": {},
   "source": [
    "```python\n",
    "    def gen_vdisp(self,beta):\n",
    "        self.beta = beta\n",
    "        r  = self.r_02\n",
    "        \n",
    "        for k in range(r.size):\n",
    "            x  = r[k] + 10**np.arange(min3D,max3D,d3D)\n",
    "            dx = x[1:x.size] - x[0:x.size-1]\n",
    "            \n",
    "            Ms = np.zeros(x.size)\n",
    "            js = np.zeros(x.size)            \n",
    "\n",
    "            for j in range(x.size):\n",
    "                Ms[j] = self.get_mass(x[j])\n",
    "                js[j] = self.get_nu(x[j])\n",
    "            \n",
    "            dx = x[1:x.size]-x[0:x.size-1]\n",
    "            ds = js*x**(2.*beta-2)*G*Ms\n",
    "            \n",
    "            f_mid = 0.5*(ds[1:x.size]+ds[0:x.size-1])*dx\n",
    "            \n",
    "            self.s2_r[k] = np.sum(f_mid)*(self.get_nu(r[k]))**(-1)*(r[k])**(-2*beta)\n",
    "```"
   ]
  },
  {
   "cell_type": "markdown",
   "metadata": {},
   "source": [
    "As the other ```gen_``` methods, this one also don't return anything as save the profile directly on the object. Note also that it uses a different radial range than ```self.nu``` and ```self.mass```, the radial range for these two (```self.r```) is larger than ```self.r_02``` wich is the radial range for ```self.s2_r```. Note also that it uses the cumulative mass profile instead of the potential, in this case eq. (1) becomes:\n",
    "\n",
    "\\begin{equation*}\n",
    "\\langle \\text{v}^2_r \\rangle (r) = \\frac{1}{n(r) r^{2\\beta}}\\int_{r}^{\\infty}{dr'n(r')r'^{(2\\beta)}\\frac{GM(r')}{r'^2}}\n",
    "\\quad\\quad\\text{(5)}\n",
    "\\end{equation*}"
   ]
  },
  {
   "cell_type": "markdown",
   "metadata": {},
   "source": [
    "For the isotropic case $\\beta=0.0$ we have then:"
   ]
  },
  {
   "cell_type": "code",
   "execution_count": 11,
   "metadata": {},
   "outputs": [],
   "source": [
    "M00.gen_vdisp(0.0)"
   ]
  },
  {
   "cell_type": "markdown",
   "metadata": {},
   "source": [
    "In the same way as for the others we can use ```get_s2r(r)``` to get the velocity dispersion at any radius (within the limits of ```self.r_02```)"
   ]
  },
  {
   "cell_type": "code",
   "execution_count": 12,
   "metadata": {},
   "outputs": [
    {
     "data": {
      "image/png": "[encoded data removed]",
      "text/plain": [
       "<Figure size 432x288 with 1 Axes>"
      ]
     },
     "metadata": {
      "needs_background": "light"
     },
     "output_type": "display_data"
    }
   ],
   "source": [
    "Sr = np.zeros(r.size)\n",
    "\n",
    "for k in range(r.size):\n",
    "    Sr[k] = M00.get_s2r(r[k])**0.5\n",
    "    \n",
    "##Lets see the cumulative mass profile:\n",
    "\n",
    "fig,ax = plt.subplots(1,1,sharex=True)\n",
    "\n",
    "ax.plot(r,Sr,'-k')\n",
    "\n",
    "ax.set_xscale('log')\n",
    "\n",
    "ax.set_xlabel(r'r [pc]')\n",
    "ax.set_ylabel(r'$\\sigma_r$ [km/s] ')\n",
    "\n",
    "plt.show()"
   ]
  },
  {
   "cell_type": "markdown",
   "metadata": {},
   "source": [
    "### 5th step: Projection on the sky ```I_surf(R)```, ```s_los(R)``` and ```s_pms(R)```"
   ]
  },
  {
   "cell_type": "markdown",
   "metadata": {},
   "source": [
    "The code has three methods to project the internal (3D) quantities into the sky. These method do a integration along the line-of-sight, the simple case is for the tracer density (in this case light, i.e. luminosity surface density)\n",
    "\n",
    "```I_surf(R)``` calculates the following integral at a given projected radius $R$ in the sky (from the center of the cluster,galaxy ... etc). The method was used when introducing the calculation of the tracer density on step 2.\n",
    "\n",
    "\\begin{equation*}\n",
    "I(R) = 2\\int_{R}^{\\infty}{\\frac{r dr}{\\sqrt{r^2-R^2}}j(r)}\n",
    "\\quad\\quad\\text{(6)}\n",
    "\\end{equation*}"
   ]
  },
  {
   "cell_type": "markdown",
   "metadata": {},
   "source": [
    "```python\n",
    "def I_surf(self,x):\n",
    "        r  = x + 10**np.arange(minPJ,maxPJ,dPJ)\n",
    "        dr = r[1:] - r[:r.size-1] \n",
    "\n",
    "        js  = np.zeros(r.size)\n",
    "        for j in range(r.size):\n",
    "            js[j]  = self.get_nu(r[j])\n",
    "    \n",
    "        #integrando Slos\n",
    "        A  = r/(r**2-x**2)**0.5*js\n",
    "        dI = 0.5*(A[1:]+A[:r.size-1])*dr\n",
    "\n",
    "        #results\n",
    "        return 2*np.sum(dI)\n",
    "```"
   ]
  },
  {
   "cell_type": "markdown",
   "metadata": {},
   "source": [
    "```s_los(R)``` and ```s_pms(R)``` follow the same general integral, but with different projection of the velocity dispersion component (see eq. 18 of [van der Marel & Anderson (2010)](https://ui.adsabs.harvard.edu/abs/2010ApJ...710.1063V/abstract), ... or the projections bellow)"
   ]
  },
  {
   "cell_type": "markdown",
   "metadata": {},
   "source": [
    "\\begin{equation*}\n",
    "\\langle\\text{v}^2_{\\text{PROJ}}\\rangle(R)  = \\frac{1}{I(R)}\\displaystyle\\int_{R}^{\\infty} \\frac{j(r) 2r dr}{\\sqrt{r^2-R^2}}\\sigma_{PROJ}^2\n",
    "\\quad\\quad\\text{(7)}\n",
    "\\end{equation*}"
   ]
  },
  {
   "cell_type": "markdown",
   "metadata": {},
   "source": [
    "where $\\sigma^2_{PROJ}$ is given by:"
   ]
  },
  {
   "cell_type": "markdown",
   "metadata": {},
   "source": [
    "\\begin{align}\n",
    "\\sigma_{los}^2 & = \\left(1-\\beta\\times(r/R)^2\\right)\\langle\\text{v}^2_{r}\\rangle\\ \\\\\n",
    "\\sigma_{pmr}^2 & = \\left(1-\\beta+\\beta\\times(r/R)^2\\right)\\langle\\text{v}^2_{r}\\rangle\\ \\\\\n",
    "\\sigma_{pmt}^2 & = \\left(1-\\beta\\right)\\langle\\text{v}^2_{r}\\rangle\\\n",
    "\\end{align}"
   ]
  },
  {
   "cell_type": "markdown",
   "metadata": {},
   "source": [
    "The methods are as follow:\n",
    "\n",
    "```python\n",
    "    def s_los(self,x):\n",
    "        r  = x + 10**np.arange(minPJ,maxPJ,dPJ)\n",
    "        dr = r[1:] - r[:r.size-1]\n",
    "    \n",
    "        s2r = np.zeros(r.size)\n",
    "        js  = np.zeros(r.size)\n",
    "    \n",
    "        for j in range(r.size):\n",
    "            s2r[j] = self.get_s2r(r[j])\n",
    "            js[j]  = self.get_nu(r[j])\n",
    "    \n",
    "        #integrando Slos\n",
    "        A = r/(r**2-x**2)**0.5*js\n",
    "        B = (1.-self.beta*(x/r)**2)*s2r\n",
    "        f = A*B\n",
    "    \n",
    "        dSlos = 0.5*(f[1:]+f[:r.size-1])*dr\n",
    "        dI    = 0.5*(A[1:]+A[:r.size-1])*dr\n",
    "    \n",
    "        #results\n",
    "        Slos = np.sqrt(np.sum(dSlos)/np.sum(dI))\n",
    "    \n",
    "        return Slos\n",
    "```"
   ]
  },
  {
   "cell_type": "markdown",
   "metadata": {},
   "source": [
    "```python\n",
    "def s_pms(self,x):\n",
    "        r  = x + 10**np.arange(minPJ,maxPJ,dPJ)\n",
    "        dr = r[1:] - r[:r.size-1]\n",
    "    \n",
    "        s2r = np.zeros(r.size)\n",
    "        js  = np.zeros(r.size)\n",
    "    \n",
    "        for j in range(r.size):\n",
    "            s2r[j] = self.get_s2r(r[j])\n",
    "            js[j]  = self.get_nu(r[j])\n",
    "        \n",
    "        #integration along los\n",
    "        A = r/(r**2-x**2)**0.5*js\n",
    "        \n",
    "        #projections:\n",
    "        B_rad = (1.-self.beta*(1-(x/r)**2))*s2r\n",
    "        B_tan = (1.-self.beta)*s2r \n",
    "\n",
    "        f_rad = A*B_rad\n",
    "        f_tan = A*B_tan\n",
    "\n",
    "        dS_rad = 0.5*(f_rad[1:]+f_rad[:-1])*dr\n",
    "        dS_tan = 0.5*(f_tan[1:]+f_tan[:-1])*dr\n",
    "    \n",
    "        dI    = 0.5*(A[1:]+A[:-1])*dr\n",
    "        \n",
    "        #results\n",
    "        S_rad = np.sqrt(np.sum(dS_rad)/np.sum(dI))\n",
    "        S_tan = np.sqrt(np.sum(dS_tan)/np.sum(dI))\n",
    "        \n",
    "        return [S_rad,S_tan]\n",
    "```"
   ]
  },
  {
   "cell_type": "markdown",
   "metadata": {},
   "source": [
    "Now let's get the projected velocity dispersions"
   ]
  },
  {
   "cell_type": "code",
   "execution_count": 13,
   "metadata": {},
   "outputs": [
    {
     "data": {
      "image/png": "[encoded data removed]",
      "text/plain": [
       "<Figure size 432x288 with 1 Axes>"
      ]
     },
     "metadata": {
      "needs_background": "light"
     },
     "output_type": "display_data"
    }
   ],
   "source": [
    "vd_los = np.zeros(R.size)\n",
    "vd_pmr = np.zeros(R.size)\n",
    "vd_pmt = np.zeros(R.size)\n",
    "\n",
    "\n",
    "for k in range(R.size):\n",
    "    vd_los[k]           = M00.s_los(R[k])\n",
    "    vd_pmr[k],vd_pmt[k] = M00.s_pms(R[k])\n",
    "   \n",
    "    \n",
    "##The plots are:\n",
    "\n",
    "fig,ax = plt.subplots(1,1,sharex=True)\n",
    "\n",
    "ax.plot(R,vd_los,'-k' ,label='los')\n",
    "ax.plot(R,vd_pmr,'--r',label='pmr')\n",
    "ax.plot(R,vd_pmt,'-.b',label='pmt')\n",
    "\n",
    "ax.set_xscale('log')\n",
    "\n",
    "ax.set_xlabel(r'r [pc]')\n",
    "ax.set_ylabel(r'$\\sigma_{proj}$ [km/s] ')\n",
    "\n",
    "plt.show()"
   ]
  },
  {
   "cell_type": "markdown",
   "metadata": {},
   "source": [
    "## What if we change the M$_{\\rm bh}$ or the Anisotropy? "
   ]
  },
  {
   "cell_type": "code",
   "execution_count": 14,
   "metadata": {},
   "outputs": [],
   "source": [
    "Mtot, ML = 1e5,1.5"
   ]
  },
  {
   "cell_type": "code",
   "execution_count": 15,
   "metadata": {},
   "outputs": [],
   "source": [
    "ex_mbh = np.array([0.,0.01,0.10])*Mtot  ## no black hole, 0.1% and 1.0%\n",
    "ex_ani = np.array([-0.5,0.0,+0.5])      ## tangential, isotropic, radial"
   ]
  },
  {
   "cell_type": "code",
   "execution_count": 16,
   "metadata": {},
   "outputs": [
    {
     "name": "stderr",
     "output_type": "stream",
     "text": [
      "/Users/farospin/Desktop/Jeans-models/model_sph.py:59: RuntimeWarning: invalid value encountered in reciprocal\n",
      "  aux_03 = (-s2)*(1.+(R/a2)**(alph_2))**(-1.)*(R/a2)**(alph_2-1.)*(1./a2)\n",
      "/Users/farospin/Desktop/Jeans-models/model_sph.py:58: RuntimeWarning: invalid value encountered in reciprocal\n",
      "  aux_02 = (-s1)*(1.+(R/a1)**(alph_1))**(-1.)*(R/a1)**(alph_1-1.)*(1./a1)\n",
      "/Users/farospin/Desktop/Jeans-models/model_sph.py:57: RuntimeWarning: invalid value encountered in reciprocal\n",
      "  aux_01 = (-s0)*(R/a1)**(-1.)*(1./a1)\n"
     ]
    }
   ],
   "source": [
    "M01 = sph.model(pars)\n",
    "M01.gen_nu()"
   ]
  },
  {
   "cell_type": "markdown",
   "metadata": {},
   "source": [
    "### CENTRAL BLACK HOLE"
   ]
  },
  {
   "cell_type": "code",
   "execution_count": 17,
   "metadata": {},
   "outputs": [],
   "source": [
    "models_mbh = []\n",
    "\n",
    "for k in range(ex_mbh.size):\n",
    "    M01.gen_mass(ML,ex_mbh[k])\n",
    "    M01.gen_vdisp(0.0) ##All isotropic\n",
    "    \n",
    "    aux_sr = np.zeros(r.size)\n",
    "    \n",
    "    for n in range(r.size):\n",
    "        aux_sr[n] = M01.get_s2r(r[n])**2\n",
    "    \n",
    "    aux_slos = np.zeros(R.size)\n",
    "\n",
    "    for n in range(R.size):\n",
    "        aux_slos[n] = M01.s_los(R[n])\n",
    "        \n",
    "    models_mbh.append([aux_sr,aux_slos])\n"
   ]
  },
  {
   "cell_type": "code",
   "execution_count": 28,
   "metadata": {},
   "outputs": [
    {
     "data": {
      "image/png": "[encoded data removed]",
      "text/plain": [
       "<Figure size 432x288 with 1 Axes>"
      ]
     },
     "metadata": {
      "needs_background": "light"
     },
     "output_type": "display_data"
    }
   ],
   "source": [
    "fig,ax = plt.subplots(1,1,sharex=True)\n",
    "\n",
    "ax.plot(R,models_mbh[0][1],'-k' ,label='Mbh=0.0%% (%5.1e M_sun)'%(ex_mbh[0]))\n",
    "ax.plot(R,models_mbh[1][1],'--r',label='Mbh=0.1%% (%5.1e M_sun)'%(ex_mbh[1]))\n",
    "ax.plot(R,models_mbh[2][1],'-.b',label='Mbh=1.0%% (%5.1e M_sun)'%(ex_mbh[2]))\n",
    "\n",
    "ax.set_xscale('log')\n",
    "\n",
    "ax.legend()\n",
    "\n",
    "ax.set_xlabel(r'r [pc]')\n",
    "ax.set_ylabel(r'$\\sigma_{LOS}$ [km/s] ')\n",
    "\n",
    "plt.show()"
   ]
  },
  {
   "cell_type": "markdown",
   "metadata": {},
   "source": [
    "### ANISOTROPY"
   ]
  },
  {
   "cell_type": "code",
   "execution_count": 19,
   "metadata": {},
   "outputs": [
    {
     "name": "stderr",
     "output_type": "stream",
     "text": [
      "/Users/farospin/Desktop/Jeans-models/model_sph.py:106: RuntimeWarning: invalid value encountered in reciprocal\n",
      "  ds = js*x**(2.*beta-2)*G*Ms\n"
     ]
    }
   ],
   "source": [
    "models_ani = []\n",
    "\n",
    "for k in range(ex_ani.size):\n",
    "    M01.gen_mass(ML,0.0)      ##No Black Hole\n",
    "    M01.gen_vdisp(ex_ani[k]) \n",
    "    \n",
    "    aux_sr = np.zeros(r.size)\n",
    "    for n in range(r.size):\n",
    "        aux_sr[n] = M01.get_s2r(r[n])**2\n",
    "    \n",
    "    aux_slos = np.zeros(R.size)\n",
    "    aux_spmr = np.zeros(R.size)\n",
    "    aux_spmt = np.zeros(R.size)\n",
    "    for n in range(R.size):\n",
    "        aux_slos[n]             = M01.s_los(R[n])\n",
    "        aux_spmr[n],aux_spmt[n] = M01.s_pms(R[n])\n",
    "        \n",
    "    models_ani.append([aux_sr,aux_slos,aux_spmr,aux_spmt])\n"
   ]
  },
  {
   "cell_type": "code",
   "execution_count": 30,
   "metadata": {},
   "outputs": [
    {
     "data": {
      "image/png": "[encoded data removed]",
      "text/plain": [
       "<Figure size 576x216 with 3 Axes>"
      ]
     },
     "metadata": {
      "needs_background": "light"
     },
     "output_type": "display_data"
    }
   ],
   "source": [
    "fig,ax = plt.subplots(1,3,sharex=True,sharey=True,figsize=(8,3))\n",
    "\n",
    "for k in range(ex_ani.size):\n",
    "    ax[k].plot(R,models_ani[k][1],'-k' ,label='los')\n",
    "    ax[k].plot(R,models_ani[k][2],'--r',label='pmr')\n",
    "    ax[k].plot(R,models_ani[k][3],'-.b',label='pmt')\n",
    "    ax[k].set_xlabel(r'r [pc]',fontsize=15)\n",
    "    ax[k].set_title('ani = %+4.1lf'%(ex_ani[k]))\n",
    "    \n",
    "ax[0].set_xscale('log')\n",
    "ax[0].set_ylabel(r'$\\sigma_{proj}$ [km/s] ',fontsize=15)\n",
    "ax[0].legend()\n",
    "\n",
    "plt.show()"
   ]
  },
  {
   "cell_type": "code",
   "execution_count": null,
   "metadata": {},
   "outputs": [],
   "source": []
  }
 ],
 "metadata": {
  "kernelspec": {
   "display_name": "Python 3",
   "language": "python",
   "name": "python3"
  },
  "language_info": {
   "codemirror_mode": {
    "name": "ipython",
    "version": 3
   },
   "file_extension": ".py",
   "mimetype": "text/x-python",
   "name": "python",
   "nbconvert_exporter": "python",
   "pygments_lexer": "ipython3",
   "version": "3.7.10"
  }
 },
 "nbformat": 4,
 "nbformat_minor": 4
}
