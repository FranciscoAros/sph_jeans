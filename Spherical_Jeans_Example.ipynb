{
 "cells": [
  {
   "cell_type": "code",
   "execution_count": 1,
   "id": "81164225-e182-4714-be89-61df869ec829",
   "metadata": {},
   "outputs": [],
   "source": [
    "import numpy as np\n",
    "import matplotlib.pyplot as plt"
   ]
  },
  {
   "cell_type": "code",
   "execution_count": 2,
   "id": "d67611f4-3ccc-40aa-9a31-ce7798e3722c",
   "metadata": {},
   "outputs": [],
   "source": [
    "%matplotlib inline"
   ]
  },
  {
   "cell_type": "code",
   "execution_count": 3,
   "id": "c42bba21-a984-4213-b7ab-701ac4206dd3",
   "metadata": {},
   "outputs": [],
   "source": [
    "import sph_jeans as sph"
   ]
  },
  {
   "cell_type": "markdown",
   "id": "110afcae-fea2-4ecc-8a8b-867337cdcbc4",
   "metadata": {},
   "source": [
    "# Spherical Jeans Code"
   ]
  },
  {
   "cell_type": "markdown",
   "id": "4312176d-53b4-4e90-892d-06859d823417",
   "metadata": {},
   "source": [
    "This version of the Jeans code is currently tailor made for model Globular Cluster with a possible IMBH at its center, but it can easily modified for different objects as the integration of the spherical Jeans equation is independent of the model (within the assumption of constant velocity anisotropy) "
   ]
  },
  {
   "cell_type": "markdown",
   "id": "93048925-947b-490d-a9fe-94d34b983c36",
   "metadata": {},
   "source": [
    "The main goal of the code is to solve the Jeans equation assuming a constant velocity anisotropy, which means it calculates the following integral:"
   ]
  },
  {
   "cell_type": "markdown",
   "id": "6305b5f0-22ef-40b1-9a26-b4fa7b44ff78",
   "metadata": {},
   "source": [
    "\\begin{equation*}\n",
    "\\langle \\text{v}^2_r \\rangle (r) = \\frac{1}{n(r) r^{2\\beta}}\\int_{r}^{\\infty}{dr'n(r')r'^{(2\\beta)}\\frac{\\partial\\Phi}{\\partial r'}(r')}\n",
    "\\quad\\quad\\text{(1)}\n",
    "\\end{equation*}"
   ]
  },
  {
   "cell_type": "markdown",
   "id": "cd94cb8f-31c9-433c-8173-691e17df92b1",
   "metadata": {},
   "source": [
    "where $n(r)$ is the tracer  number density (assumed to be the same as the luminosity density $j(r)$), $\\beta$ is the radial velocity anisotropy and $\\Phi$ is the potential"
   ]
  },
  {
   "cell_type": "markdown",
   "id": "330b229a-ffd4-4e62-be04-cb97adc7a1f3",
   "metadata": {},
   "source": [
    "## Now, how does it work? \n",
    "\n",
    "The code create an object called ```model()``` which save all the parameters for the models ```pars```, the luminosity density (tracer density) ```self.nu```, the cumulative mass ```self.mass``` and radial velocity dispersion ```self.s2_r``` (as given by equation (1) )"
   ]
  },
  {
   "cell_type": "markdown",
   "id": "ed55aba4-a041-41cb-aefb-dc70b2c2857d",
   "metadata": {},
   "source": [
    "```python\n",
    "\n",
    "class model:\n",
    "    \n",
    "    def __init__(self,pars):\n",
    "        self.I0,self.a1,self.a2,self.s0,self.s1,self.s2,self.alph_1,self.alph_2 = pars\n",
    "         \n",
    "        #par2\n",
    "        self.r  = 10.**np.arange(-3.,8.0,0.1)\n",
    "        self.nu = np.zeros((self.r).size)    \n",
    "    \n",
    "        #par3\n",
    "        self.ml  = 0.0\n",
    "        self.Mbh = 0.0\n",
    "        self.mass = np.zeros((self.r).size)\n",
    "    \n",
    "        #par4\n",
    "        self.beta = 0.0\n",
    "        self.r_02 = 10.**np.arange(-2.,6.5,0.1)\n",
    "        self.s2_r = np.zeros((self.r_02).size)    \n",
    "\n",
    "```"
   ]
  },
  {
   "cell_type": "markdown",
   "id": "3149cacf-a888-4ee2-8e25-f48232d30f76",
   "metadata": {},
   "source": [
    "```self.r``` is the radii range for $r'$ in equation (1) and it defines the range of raddi for the tracer density ```self.nu``` and cumulative mass ```self.mass```"
   ]
  },
  {
   "cell_type": "markdown",
   "id": "b7bf46b9-cbf5-4237-88bf-63d7559988e7",
   "metadata": {},
   "source": [
    "In the current version the input parameters ```pars``` are given for the functional form of the surface brightness of the tracers, following this parametric form:\n",
    "\n",
    "\\begin{equation*}\n",
    "I(R) = I_{0}\\times(R/a_0)^{-s_0}\\times(1+(R/a_0)^{\\alpha_1})^{-s_1/\\alpha_1}\\times(1+(R/a_1)^{\\alpha_2})^{-s_2/\\alpha_2}\n",
    "\\quad\\quad\\text{(2)}\n",
    "\\end{equation*}\n",
    "\n",
    "where $R$ is the projected radius."
   ]
  },
  {
   "cell_type": "markdown",
   "id": "8a32cec7-1d8d-4175-a4de-ddcb9c22867f",
   "metadata": {},
   "source": [
    "For this example I will use a combination of parameters that its consistent with a Plummer model with a total mass of $M_{tot}=10^5\\,M_{\\odot}$, a scale radius of $r_0 = 2\\,\\text{[pc]}$ and a mass-to-light radius of $M/L = 1.5\\,[M_{\\odot}/L_{\\odot}]$. The surface brightness of such Plummer model is:\n",
    "\n",
    "\\begin{equation*}\n",
    "I(R) = \\frac{I_0}{(1+R^2/R_0^2)^2}\n",
    "\\quad\\quad\\text{(3)}\n",
    "\\end{equation*}\n",
    "\n",
    "with $I_0 = 5305.16\\,[L_{\\odot}\\text{pc}^{-2}]$ and $R_0 = 2\\,\\text{[pc]}$\n"
   ]
  },
  {
   "cell_type": "markdown",
   "id": "3e06329f-48f4-47a0-b8d2-7fba8068fc89",
   "metadata": {},
   "source": [
    "Then input parameters of equation (2) for this model are: "
   ]
  },
  {
   "cell_type": "code",
   "execution_count": 4,
   "id": "1c70abb6-afae-460f-9616-0e29c8f291f7",
   "metadata": {},
   "outputs": [],
   "source": [
    "I0     = 5305.16 \n",
    "a0     = 1.0\n",
    "a1     = 2.0\n",
    "s0     = 0.0\n",
    "s1     = 0.0\n",
    "s2     = 4.0\n",
    "alph_1 = 1.0\n",
    "alph_2 = 2.0\n",
    "\n",
    "pars = [I0,a0,a1,s0,s1,s2,alph_1,alph_2]"
   ]
  },
  {
   "cell_type": "markdown",
   "id": "6825c5c2-66a4-493d-86aa-3ac35dd2faf7",
   "metadata": {},
   "source": [
    "(see the fit for the surface brightness in \"P1 Luminosity Fit Example\")"
   ]
  },
  {
   "cell_type": "markdown",
   "id": "8a63900c-b718-4040-8f72-e8cd7279ca94",
   "metadata": {},
   "source": [
    "### First step: ```model```\n",
    "\n",
    "First step, create a model object:"
   ]
  },
  {
   "cell_type": "code",
   "execution_count": 5,
   "id": "ceec5fb5-3b23-4852-8183-ab5347040495",
   "metadata": {},
   "outputs": [],
   "source": [
    "M00 = sph.model(pars)"
   ]
  },
  {
   "cell_type": "markdown",
   "id": "92e93126-5c50-44b9-ad95-779b82d83544",
   "metadata": {},
   "source": [
    "```M00``` now is the object that will have the input parameters and profiles, you can use ```M00.get_pars()``` to recover the input parameters"
   ]
  },
  {
   "cell_type": "code",
   "execution_count": 6,
   "id": "4cae8755-05a8-4d86-8fae-718d17139e5a",
   "metadata": {},
   "outputs": [
    {
     "data": {
      "text/plain": [
       "[5305.16, 1.0, 2.0, 0.0, 0.0, 4.0, 1.0, 2.0]"
      ]
     },
     "execution_count": 6,
     "metadata": {},
     "output_type": "execute_result"
    }
   ],
   "source": [
    "M00.get_pars()"
   ]
  },
  {
   "cell_type": "markdown",
   "id": "8c96a401-b8cb-4f46-be90-1fd329ddc201",
   "metadata": {},
   "source": [
    "### Second step: ```gen_nu()```\n",
    "The second step is to generate the tracer density using the method ```gen_nu()```"
   ]
  },
  {
   "cell_type": "code",
   "execution_count": 7,
   "id": "88ce6f70-31eb-4e42-adc3-89334b8b7beb",
   "metadata": {},
   "outputs": [],
   "source": [
    "M00.gen_nu()"
   ]
  },
  {
   "cell_type": "markdown",
   "id": "6171297f-9cb7-44a7-bb2e-5c40c1579e70",
   "metadata": {},
   "source": [
    "```gen_nu()``` generates the tracer density (light) and saves it in ```self.nu```. In practice it's not really relevant as you can change the inner part of the code in whatever way you like. In this case the code deprojects the surface brightness calculating this integral:\n",
    "\n",
    "\\begin{equation*}\n",
    "j(r) = \\frac{-1}{\\pi}\\displaystyle\\int_r^{\\infty}{\\frac{dR}{\\sqrt{R^2-r^2}}\\frac{dI}{dR}}\n",
    "\\quad\\quad\\text{(4)}\\\n",
    "\\end{equation*}"
   ]
  },
  {
   "cell_type": "markdown",
   "id": "56c66afd-66c9-4e81-bced-dcaf52b9b422",
   "metadata": {},
   "source": [
    "Once $n(r)$ is created you can extract it by evaluating its value at any given point (within the constraints of the ```self.r```) using ```get_nu(r)```, in the same way you can recover the surface brightness at a given radius with ```I_surf(x)```. "
   ]
  },
  {
   "cell_type": "code",
   "execution_count": 8,
   "id": "0dad918a-0fe2-4a05-9d75-379f203cfef4",
   "metadata": {},
   "outputs": [
    {
     "data": {
      "image/png": "[encoded data removed]",
      "text/plain": [
       "<Figure size 432x288 with 1 Axes>"
      ]
     },
     "metadata": {
      "needs_background": "light"
     },
     "output_type": "display_data"
    }
   ],
   "source": [
    "r = 10**np.arange(-1.,2.0,0.1)\n",
    "R = 10**np.arange(-1.,2.0,0.1)\n",
    "\n",
    "nu = np.zeros(r.size)\n",
    "sb = np.zeros(R.size)\n",
    "\n",
    "for k in range(r.size):\n",
    "    nu[k] = M00.get_nu(r[k])\n",
    "    \n",
    "for k in range(R.size):\n",
    "    sb[k] = M00.I_surf(R[k])\n",
    "\n",
    "\n",
    "##Lets see the tracer density profiles:\n",
    "\n",
    "fig,ax = plt.subplots(1,1,sharex=True)\n",
    "\n",
    "ax.plot(r,nu,'--r',label=r'j(r) [$L_{\\odot}\\,pc^{-3}$]')\n",
    "ax.plot(R,sb,'-k' ,label=r'I(R) [$L_{\\odot}\\,pc^{-2}$]')\n",
    "\n",
    "ax.set_xscale('log')\n",
    "ax.set_yscale('log')\n",
    "\n",
    "ax.set_xlabel('radius')\n",
    "ax.set_ylabel('tracer density')\n",
    "\n",
    "ax.text(0.1,0.01 ,'Surface Density',color='k')\n",
    "ax.text(0.1,0.003,'Internal (3D) Density',color='r')\n",
    "\n",
    "ax.set_ylim([1e-3,1e+4])\n",
    "\n",
    "ax.legend()\n",
    "\n",
    "plt.show()\n"
   ]
  },
  {
   "cell_type": "markdown",
   "id": "a98815b5-8bc4-46b0-bb6e-ac02c97bf6c1",
   "metadata": {},
   "source": [
    "### Third step: ```gen_mass(ml,mbh)```"
   ]
  },
  {
   "cell_type": "markdown",
   "id": "6c7c02a9-8e5e-466f-aad6-468df9e27561",
   "metadata": {},
   "source": [
    "The third step is to generate the cumulative mass profile for the potential. This method uses the already sampled tracer density ```self.nu```, the mass-to-light ratio ```self.ml``` and the mass of the central black hole ```self.Mbh```. The latter two are defined acording the input parameters given to the method. "
   ]
  },
  {
   "cell_type": "markdown",
   "id": "354298db-56c8-44a1-b696-6733f43b60d2",
   "metadata": {},
   "source": [
    "In the spherically symetric case, the gradient of the potential $d \\Phi/d r$ is given directly by the enclosed mass as:\n",
    "\n",
    "\\begin{equation*}\n",
    "\\frac{d\\Phi}{dr} = \\frac{GM(r)}{r^2}\n",
    "\\quad\\quad\\text{(5)}\\\n",
    "\\end{equation*}"
   ]
  },
  {
   "cell_type": "markdown",
   "id": "ba1a361a-841c-446f-918f-b90de4d71ec1",
   "metadata": {},
   "source": [
    "The method is defined like this:\n",
    "\n",
    "```python\n",
    "def gen_mass(self,ml,Mbh):\n",
    "        self.ml  = ml\n",
    "        self.Mbh = Mbh\n",
    "        \n",
    "        I0,a1,a2,s0,s1,s2,alph_1,alph_2 = self.get_pars()\n",
    "            \n",
    "        r  = self.r\n",
    "        aux_mass = np.zeros(r.size)\n",
    "        \n",
    "        for k in range(r.size-1):\n",
    "    \n",
    "            u = np.linspace(r[k],r[k+1],100)\n",
    "            v = np.zeros(u.size)\n",
    "    \n",
    "            for j in range(u.size):\n",
    "                v[j] = ml*self.get_nu(u[j])*u[j]**2\n",
    "    \n",
    "            du =      u[1:] - u[:u.size-1]\n",
    "            dv = 0.5*(v[1:] + v[:v.size-1])\n",
    "    \n",
    "            aux_mass[k+1] = 4*np.pi*np.sum(du*dv)\n",
    "        \n",
    "        self.mass = np.cumsum(aux_mass) + Mbh\n",
    "```\n",
    "\n",
    "where it obtain the total mass by using a simple trapezoidal rule of numerical integration for the integral:\n",
    "\n",
    "\\begin{equation*}\n",
    "M(r) = 4\\pi\\int_{0}^{r}\\rho(r')r'^2 dr'\n",
    "\\quad\\quad\\text{(6)}\\\n",
    "\\end{equation*}\n",
    "\n",
    "As my code asumes a constant mass-to-light ratio then the mass density profile is described by ```ml*self.get_nu(u[j])```"
   ]
  },
  {
   "cell_type": "markdown",
   "id": "867c9e3c-6968-4624-b37e-b9873daae933",
   "metadata": {},
   "source": [
    "We can generate the cumulative mass profile with the M/L = 1.5 and Mbh = 0.0"
   ]
  },
  {
   "cell_type": "code",
   "execution_count": 9,
   "id": "265ae0de-acdc-401a-8c3a-071442b3140f",
   "metadata": {},
   "outputs": [],
   "source": [
    "M00.gen_mass(1.5,0.0)"
   ]
  },
  {
   "cell_type": "markdown",
   "id": "1b967642-504e-40eb-855f-7fc3711f7f00",
   "metadata": {},
   "source": [
    "Then we can use ```get_mass(r)``` to extract values of the generated cumulative mass profile"
   ]
  },
  {
   "cell_type": "code",
   "execution_count": 10,
   "id": "38f8e25c-86d7-4fea-a104-21a5a8448358",
   "metadata": {},
   "outputs": [
    {
     "data": {
      "image/png": "[encoded data removed]",
      "text/plain": [
       "<Figure size 432x288 with 1 Axes>"
      ]
     },
     "metadata": {
      "needs_background": "light"
     },
     "output_type": "display_data"
    }
   ],
   "source": [
    "M = np.zeros(r.size)\n",
    "\n",
    "for k in range(r.size):\n",
    "    M[k] = M00.get_mass(r[k])\n",
    "    \n",
    "##Lets see the cumulative mass profile:\n",
    "\n",
    "fig,ax = plt.subplots(1,1,sharex=True)\n",
    "\n",
    "ax.plot(r,M,'-k')\n",
    "ax.axhline(y=1e5,ls='--',c='0.5',alpha=0.5)\n",
    "\n",
    "ax.set_xscale('log')\n",
    "ax.set_yscale('log')\n",
    "\n",
    "ax.set_xlabel('r [pc]')\n",
    "ax.set_ylabel('M(<r) [$M_{\\odot}$] ')\n",
    "\n",
    "ax.text(0.1,6e4,'total mass = 1e5 Msun',color='0.5')\n",
    "\n",
    "plt.show()"
   ]
  },
  {
   "cell_type": "markdown",
   "id": "048722b2-d0bf-47ba-b578-1be7b704607e",
   "metadata": {},
   "source": [
    "### 4th step: ```gen_vdisp(ani)```"
   ]
  },
  {
   "cell_type": "markdown",
   "id": "85a7f95d-9a79-4c34-bd1d-c3f444caeea4",
   "metadata": {},
   "source": [
    "Now that the tracer density and the mass profile are generated and saved into the object ```M00``` we can integrate the Jeans equation (as eq. (1)). The method ```gen_vdisp(ani)``` receives as an argument a value of velocity anisotropy for the system, save it into the model and generate a radial profile for the square radial velocity dispersion.  "
   ]
  },
  {
   "cell_type": "markdown",
   "id": "0c05ac9c-f25a-4815-8caf-74b0076c84f1",
   "metadata": {},
   "source": [
    "```python\n",
    "    def gen_vdisp(self,beta):\n",
    "        self.beta = beta\n",
    "        r  = self.r_02\n",
    "        \n",
    "        for k in range(r.size):\n",
    "            x  = r[k] + 10**np.arange(min3D,max3D,d3D)\n",
    "            dx = x[1:x.size] - x[0:x.size-1]\n",
    "            \n",
    "            Ms = np.zeros(x.size)\n",
    "            js = np.zeros(x.size)            \n",
    "\n",
    "            for j in range(x.size):\n",
    "                Ms[j] = self.get_mass(x[j])\n",
    "                js[j] = self.get_nu(x[j])\n",
    "            \n",
    "            dx = x[1:x.size]-x[0:x.size-1]\n",
    "            ds = js*x**(2.*beta-2)*G*Ms\n",
    "            \n",
    "            f_mid = 0.5*(ds[1:x.size]+ds[0:x.size-1])*dx\n",
    "            \n",
    "            self.s2_r[k] = np.sum(f_mid)*(self.get_nu(r[k]))**(-1)*(r[k])**(-2*beta)\n",
    "```"
   ]
  },
  {
   "cell_type": "markdown",
   "id": "dd3a6ff5-8ce8-4524-9659-0db3fedc8c80",
   "metadata": {},
   "source": [
    "As the other ```gen_``` methods, this one also don't return anything as save the profile directly on the object. Note also that it uses a different radial range than ```self.nu``` and ```self.mass```, the radial range for these two (```self.r```) is larger than ```self.r_02``` wich is the radial range for ```self.s2_r```. Note also that it uses the cumulative mass profile instead of the potential, in this case eq. (1) becomes:\n",
    "\n",
    "\\begin{equation*}\n",
    "\\langle \\text{v}^2_r \\rangle (r) = \\frac{1}{n(r) r^{2\\beta}}\\int_{r}^{\\infty}{dr'n(r')r'^{(2\\beta)}\\frac{GM(r')}{r'^2}}\n",
    "\\quad\\quad\\text{(7)}\n",
    "\\end{equation*}"
   ]
  },
  {
   "cell_type": "markdown",
   "id": "bc64b836-e93e-4204-9114-aaacf03d3d46",
   "metadata": {},
   "source": [
    "For the isotropic case $\\beta=0.0$ we have then:"
   ]
  },
  {
   "cell_type": "code",
   "execution_count": 11,
   "id": "118157aa-62f5-4a97-8cfe-c7d29a882c1a",
   "metadata": {},
   "outputs": [],
   "source": [
    "M00.gen_vdisp(0.0)"
   ]
  },
  {
   "cell_type": "markdown",
   "id": "fe74b994-c03a-45ca-b259-cf16deb2e105",
   "metadata": {},
   "source": [
    "In the same way as for the others we can use ```get_s2r(r)``` to get the velocity dispersion at any radius (within the limits of ```self.r_02```)"
   ]
  },
  {
   "cell_type": "code",
   "execution_count": 12,
   "id": "17ec4a64-4a0e-4a37-9a3a-8969a38e3c74",
   "metadata": {},
   "outputs": [
    {
     "data": {
      "image/png": "[encoded data removed]",
      "text/plain": [
       "<Figure size 432x288 with 1 Axes>"
      ]
     },
     "metadata": {
      "needs_background": "light"
     },
     "output_type": "display_data"
    }
   ],
   "source": [
    "Sr = np.zeros(r.size)\n",
    "\n",
    "for k in range(r.size):\n",
    "    Sr[k] = M00.get_s2r(r[k])**0.5\n",
    "    \n",
    "##Lets see the cumulative mass profile:\n",
    "\n",
    "fig,ax = plt.subplots(1,1,sharex=True)\n",
    "\n",
    "ax.plot(r,Sr,'-k')\n",
    "\n",
    "ax.set_xscale('log')\n",
    "\n",
    "ax.set_xlabel(r'r [pc]')\n",
    "ax.set_ylabel(r'$\\sigma_r$ [km/s] ')\n",
    "\n",
    "plt.show()"
   ]
  },
  {
   "cell_type": "markdown",
   "id": "528fe178-5f81-439e-85cc-2066150bc58e",
   "metadata": {},
   "source": [
    "### 5th step: Projection on the sky ```I_surf(R)```, ```s_los(R)``` and ```s_pms(R)```"
   ]
  },
  {
   "cell_type": "markdown",
   "id": "2a617d96-61b4-4d6b-9993-17d8c369b92f",
   "metadata": {},
   "source": [
    "The code has three methods to project the internal (3D) quantities into the sky. These method do a integration along the line-of-sight, the simple case is for the tracer density (in this case light, i.e. luminosity surface density)\n",
    "\n",
    "```I_surf(R)``` calculates the following integral at a given projected radius $R$ in the sky (from the center of the cluster,galaxy ... etc). The method was used when introducing the calculation of the tracer density on step 2.\n",
    "\n",
    "\\begin{equation*}\n",
    "I(R) = 2\\int_{R}^{\\infty}{\\frac{r dr}{\\sqrt{r^2-R^2}}j(r)}\n",
    "\\quad\\quad\\text{(8)}\n",
    "\\end{equation*}"
   ]
  },
  {
   "cell_type": "markdown",
   "id": "13457cf1-1422-428f-a18d-14d4944e360a",
   "metadata": {},
   "source": [
    "```python\n",
    "def I_surf(self,x):\n",
    "        r  = x + 10**np.arange(minPJ,maxPJ,dPJ)\n",
    "        dr = r[1:] - r[:r.size-1] \n",
    "\n",
    "        js  = np.zeros(r.size)\n",
    "        for j in range(r.size):\n",
    "            js[j]  = self.get_nu(r[j])\n",
    "    \n",
    "        #integrando Slos\n",
    "        A  = r/(r**2-x**2)**0.5*js\n",
    "        dI = 0.5*(A[1:]+A[:r.size-1])*dr\n",
    "\n",
    "        #results\n",
    "        return 2*np.sum(dI)\n",
    "```"
   ]
  },
  {
   "cell_type": "markdown",
   "id": "2b2fa141-d0e2-48f3-a50e-93db8045acd0",
   "metadata": {},
   "source": [
    "```s_los(R)``` and ```s_pms(R)``` follow the same general integral, but with different projection of the velocity dispersion component (see eq. 18 of [van der Marel & Anderson (2010)](https://ui.adsabs.harvard.edu/abs/2010ApJ...710.1063V/abstract), ... or the projections bellow)"
   ]
  },
  {
   "cell_type": "markdown",
   "id": "e7b254ab-8330-4a78-9542-0062d400016b",
   "metadata": {},
   "source": [
    "\\begin{equation*}\n",
    "\\langle\\text{v}^2_{\\text{PROJ}}\\rangle(R)  = \\frac{1}{I(R)}\\displaystyle\\int_{R}^{\\infty} \\frac{j(r) dr}{\\sqrt{r^2-R^2}}\\sigma_{PROJ}^2\n",
    "\\quad\\quad\\text{(9)}\n",
    "\\end{equation*}"
   ]
  },
  {
   "cell_type": "markdown",
   "id": "60c4b322-b3ad-490f-b8ce-2ba8dafbcce0",
   "metadata": {},
   "source": [
    "where $\\sigma^2_{PROJ}$ is given by:"
   ]
  },
  {
   "cell_type": "markdown",
   "id": "c741b546-7138-45f0-99b7-3b853a250f5d",
   "metadata": {},
   "source": [
    "\\begin{align}\n",
    "\\sigma_{los}^2 & = \\left(1-\\beta\\times(r/R)^2\\right)\\langle\\text{v}^2_{r}\\rangle\\ \\\\\n",
    "\\sigma_{pmr}^2 & = \\left(1-\\beta+\\beta\\times(r/R)^2\\right)\\langle\\text{v}^2_{r}\\rangle\\ \\\\\n",
    "\\sigma_{pmt}^2 & = \\left(1-\\beta\\right)\\langle\\text{v}^2_{r}\\rangle\\\n",
    "\\end{align}"
   ]
  },
  {
   "cell_type": "markdown",
   "id": "ad5a41f3-9a09-491e-b087-cae497d45259",
   "metadata": {},
   "source": [
    "The methods are as follow:\n",
    "\n",
    "```python\n",
    "    def s_los(self,x):\n",
    "        r  = x + 10**np.arange(minPJ,maxPJ,dPJ)\n",
    "        dr = r[1:] - r[:r.size-1]\n",
    "    \n",
    "        s2r = np.zeros(r.size)\n",
    "        js  = np.zeros(r.size)\n",
    "    \n",
    "        for j in range(r.size):\n",
    "            s2r[j] = self.get_s2r(r[j])\n",
    "            js[j]  = self.get_nu(r[j])\n",
    "    \n",
    "        #integrando Slos\n",
    "        A = r/(r**2-x**2)**0.5*js\n",
    "        B = (1.-self.beta*(x/r)**2)*s2r\n",
    "        f = A*B\n",
    "    \n",
    "        dSlos = 0.5*(f[1:]+f[:r.size-1])*dr\n",
    "        dI    = 0.5*(A[1:]+A[:r.size-1])*dr\n",
    "    \n",
    "        #results\n",
    "        Slos = np.sqrt(np.sum(dSlos)/np.sum(dI))\n",
    "    \n",
    "        return Slos\n",
    "```"
   ]
  },
  {
   "cell_type": "markdown",
   "id": "9bc604f7-fe37-458b-a08c-a301b9ebc76e",
   "metadata": {},
   "source": [
    "```python\n",
    "def s_pms(self,x):\n",
    "        r  = x + 10**np.arange(minPJ,maxPJ,dPJ)\n",
    "        dr = r[1:] - r[:r.size-1]\n",
    "    \n",
    "        s2r = np.zeros(r.size)\n",
    "        js  = np.zeros(r.size)\n",
    "    \n",
    "        for j in range(r.size):\n",
    "            s2r[j] = self.get_s2r(r[j])\n",
    "            js[j]  = self.get_nu(r[j])\n",
    "        \n",
    "        #integration along los\n",
    "        A = r/(r**2-x**2)**0.5*js\n",
    "        \n",
    "        #projections:\n",
    "        B_rad = (1.-self.beta*(1-(x/r)**2))*s2r\n",
    "        B_tan = (1.-self.beta)*s2r \n",
    "\n",
    "        f_rad = A*B_rad\n",
    "        f_tan = A*B_tan\n",
    "\n",
    "        dS_rad = 0.5*(f_rad[1:]+f_rad[:-1])*dr\n",
    "        dS_tan = 0.5*(f_tan[1:]+f_tan[:-1])*dr\n",
    "    \n",
    "        dI    = 0.5*(A[1:]+A[:-1])*dr\n",
    "        \n",
    "        #results\n",
    "        S_rad = np.sqrt(np.sum(dS_rad)/np.sum(dI))\n",
    "        S_tan = np.sqrt(np.sum(dS_tan)/np.sum(dI))\n",
    "        \n",
    "        return [S_rad,S_tan]\n",
    "```"
   ]
  },
  {
   "cell_type": "markdown",
   "id": "1c500dfc-c399-4d82-97de-370f5aa70b4a",
   "metadata": {},
   "source": [
    "Now let's get the projected velocity dispersions"
   ]
  },
  {
   "cell_type": "code",
   "execution_count": 13,
   "id": "6d0fc0ca-1825-46c8-a701-c9b1fa3c50fd",
   "metadata": {},
   "outputs": [
    {
     "data": {
      "image/png": "[encoded data removed]",
      "text/plain": [
       "<Figure size 432x288 with 1 Axes>"
      ]
     },
     "metadata": {
      "needs_background": "light"
     },
     "output_type": "display_data"
    }
   ],
   "source": [
    "vd_los = np.zeros(R.size)\n",
    "vd_pmr = np.zeros(R.size)\n",
    "vd_pmt = np.zeros(R.size)\n",
    "\n",
    "\n",
    "for k in range(R.size):\n",
    "    vd_los[k]           = M00.s_los(R[k])\n",
    "    vd_pmr[k],vd_pmt[k] = M00.s_pms(R[k])\n",
    "   \n",
    "    \n",
    "##The plots are:\n",
    "\n",
    "fig,ax = plt.subplots(1,1,sharex=True)\n",
    "\n",
    "ax.plot(R,vd_los,'-k' ,label='los')\n",
    "ax.plot(R,vd_pmr,'--r',label='pmr')\n",
    "ax.plot(R,vd_pmt,'-.b',label='pmt')\n",
    "\n",
    "ax.set_xscale('log')\n",
    "\n",
    "ax.set_xlabel(r'r [pc]')\n",
    "ax.set_ylabel(r'$\\sigma_{proj}$ [km/s] ')\n",
    "\n",
    "plt.show()"
   ]
  },
  {
   "cell_type": "markdown",
   "id": "842d4013-e70b-4376-9e9b-354181509ca0",
   "metadata": {},
   "source": [
    "## What if we change the Mbh or the Anisotropy? "
   ]
  },
  {
   "cell_type": "code",
   "execution_count": 14,
   "id": "fc7af31c-6b9c-4833-9e77-2cb5cfc381ea",
   "metadata": {},
   "outputs": [],
   "source": [
    "Mtot, ML = 1e5,1.5"
   ]
  },
  {
   "cell_type": "code",
   "execution_count": 15,
   "id": "599aa9fc-1f29-49d6-90a7-06275d9f790a",
   "metadata": {},
   "outputs": [],
   "source": [
    "ex_mbh = np.array([0.,0.01,0.10])*Mtot ## no black hole, 0.1% and 1.0%\n",
    "ex_ani = np.array([-0.5,0.0,+0.5])      ## tangential, isotropic, radial"
   ]
  },
  {
   "cell_type": "code",
   "execution_count": 16,
   "id": "3dbc1154-a2a4-4cf4-80ca-2f04d6764fe1",
   "metadata": {},
   "outputs": [],
   "source": [
    "M01 = sph.model(pars)\n",
    "M01.gen_nu()"
   ]
  },
  {
   "cell_type": "markdown",
   "id": "dd6fa0b5-8995-4a1b-8662-6e62feebadab",
   "metadata": {},
   "source": [
    "### CENTRAL BLACK HOLE"
   ]
  },
  {
   "cell_type": "code",
   "execution_count": 17,
   "id": "cd4e4a42-2d42-4897-a6f4-70d863078f2b",
   "metadata": {},
   "outputs": [],
   "source": [
    "models_mbh = []\n",
    "\n",
    "for k in range(ex_mbh.size):\n",
    "    M01.gen_mass(ML,ex_mbh[k])\n",
    "    M01.gen_vdisp(0.0) ##All isotropic\n",
    "    \n",
    "    aux_sr = np.zeros(r.size)\n",
    "    \n",
    "    for n in range(r.size):\n",
    "        aux_sr[n] = M01.get_s2r(r[n])**2\n",
    "    \n",
    "    aux_slos = np.zeros(R.size)\n",
    "\n",
    "    for n in range(R.size):\n",
    "        aux_slos[n] = M01.s_los(R[n])\n",
    "        \n",
    "    models_mbh.append([aux_sr,aux_slos])\n"
   ]
  },
  {
   "cell_type": "code",
   "execution_count": 18,
   "id": "e6abf718-de4e-4f37-9a7d-6cf06b73f494",
   "metadata": {},
   "outputs": [
    {
     "data": {
      "image/png": "[encoded data removed]",
      "text/plain": [
       "<Figure size 432x288 with 1 Axes>"
      ]
     },
     "metadata": {
      "needs_background": "light"
     },
     "output_type": "display_data"
    }
   ],
   "source": [
    "fig,ax = plt.subplots(1,1,sharex=True)\n",
    "\n",
    "ax.plot(R,models_mbh[0][1],'-k' ,label='Mbh=0.0%')\n",
    "ax.plot(R,models_mbh[1][1],'--r',label='Mbh=0.1%')\n",
    "ax.plot(R,models_mbh[2][1],'-.b',label='Mbh=1.0%')\n",
    "\n",
    "ax.set_xscale('log')\n",
    "\n",
    "ax.legend()\n",
    "\n",
    "ax.set_xlabel(r'r [pc]')\n",
    "ax.set_ylabel(r'$\\sigma_{LOS}$ [km/s] ')\n",
    "\n",
    "plt.show()"
   ]
  },
  {
   "cell_type": "markdown",
   "id": "08a3e3af-f9a5-429b-8135-d87464d1e8af",
   "metadata": {},
   "source": [
    "### ANISOTROPY"
   ]
  },
  {
   "cell_type": "code",
   "execution_count": 19,
   "id": "5917d4ab-b12e-4e06-8a35-19bf3367c0f8",
   "metadata": {},
   "outputs": [],
   "source": [
    "models_ani = []\n",
    "\n",
    "for k in range(ex_ani.size):\n",
    "    M01.gen_mass(ML,0.0)      ##No Black Hole\n",
    "    M01.gen_vdisp(ex_ani[k]) \n",
    "    \n",
    "    aux_sr = np.zeros(r.size)\n",
    "    for n in range(r.size):\n",
    "        aux_sr[n] = M01.get_s2r(r[n])**2\n",
    "    \n",
    "    aux_slos = np.zeros(R.size)\n",
    "    aux_spmr = np.zeros(R.size)\n",
    "    aux_spmt = np.zeros(R.size)\n",
    "    for n in range(R.size):\n",
    "        aux_slos[n]             = M01.s_los(R[n])\n",
    "        aux_spmr[n],aux_spmt[n] = M01.s_pms(R[n])\n",
    "        \n",
    "    models_ani.append([aux_sr,aux_slos,aux_spmr,aux_spmt])\n"
   ]
  },
  {
   "cell_type": "code",
   "execution_count": 20,
   "id": "00317ebe-55ce-4d49-aa44-2a498c37380b",
   "metadata": {},
   "outputs": [
    {
     "data": {
      "image/png": "[encoded data removed]",
      "text/plain": [
       "<Figure size 576x216 with 3 Axes>"
      ]
     },
     "metadata": {
      "needs_background": "light"
     },
     "output_type": "display_data"
    }
   ],
   "source": [
    "fig,ax = plt.subplots(1,3,sharex=True,sharey=True,figsize=(8,3))\n",
    "\n",
    "for k in range(ex_ani.size):\n",
    "    ax[k].plot(R,models_ani[k][1],'-k' ,label='los')\n",
    "    ax[k].plot(R,models_ani[k][2],'--r',label='pmr')\n",
    "    ax[k].plot(R,models_ani[k][3],'-.b',label='pmt')\n",
    "    ax[k].set_xlabel(r'r [pc]')\n",
    "    ax[k].set_title('ani = %+4.1lf'%(ex_ani[k]))\n",
    "    \n",
    "ax[0].set_xscale('log')\n",
    "ax[0].set_ylabel(r'$\\sigma_{proj}$ [km/s] ')\n",
    "ax[0].legend()\n",
    "\n",
    "plt.show()"
   ]
  },
  {
   "cell_type": "code",
   "execution_count": null,
   "id": "e3dc2fd0-2d22-413b-af3b-6c97972d6487",
   "metadata": {},
   "outputs": [],
   "source": []
  }
 ],
 "metadata": {
  "kernelspec": {
   "display_name": "Python 3 (ipykernel)",
   "language": "python",
   "name": "python3"
  },
  "language_info": {
   "codemirror_mode": {
    "name": "ipython",
    "version": 3
   },
   "file_extension": ".py",
   "mimetype": "text/x-python",
   "name": "python",
   "nbconvert_exporter": "python",
   "pygments_lexer": "ipython3",
   "version": "3.9.7"
  }
 },
 "nbformat": 4,
 "nbformat_minor": 5
}
